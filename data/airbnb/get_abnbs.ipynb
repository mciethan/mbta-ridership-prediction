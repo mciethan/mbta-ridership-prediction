{
 "cells": [
  {
   "cell_type": "code",
   "execution_count": 43,
   "metadata": {},
   "outputs": [],
   "source": [
    "import pandas as pd\n",
    "import geopandas as gpd\n",
    "import numpy as np\n",
    "\n",
    "\n",
    "boston_listings = pd.read_csv(\"boston_listings.csv\")\n",
    "cambridge_listings = pd.read_csv(\"cambridge_listings.csv\")\n",
    "\n",
    "boston_listings = gpd.GeoDataFrame(boston_listings, geometry=gpd.points_from_xy(boston_listings[\"longitude\"], boston_listings[\"latitude\"]), crs=\"EPSG:4326\").to_crs(\"EPSG:26986\")\n",
    "cambridge_listings = gpd.GeoDataFrame(cambridge_listings, geometry=gpd.points_from_xy(cambridge_listings[\"longitude\"], cambridge_listings[\"latitude\"]), crs=\"EPSG:4326\").to_crs(\"EPSG:26986\")\n",
    "all_listings = pd.concat([boston_listings,cambridge_listings])\n",
    "\n",
    "station_areas = pd.read_csv(\"../stations_routes_f23_geoms_nonoverlapping.csv\")\n",
    "\n",
    "station_areas= gpd.GeoDataFrame(station_areas,geometry=gpd.GeoSeries.from_wkt(station_areas[\"walk_poly_wkt\"]))\n",
    "station_areas = station_areas.set_crs(\"EPSG:4326\").to_crs(\"EPSG:26986\")"
   ]
  },
  {
   "cell_type": "code",
   "execution_count": 44,
   "metadata": {},
   "outputs": [],
   "source": [
    "points_in_polygons = gpd.sjoin(all_listings, station_areas, how=\"inner\", predicate=\"within\")\n",
    "\n",
    "polygon_point_counts = points_in_polygons.groupby([\"route_id\",\"parent_station\"]).size().reset_index(name=\"airbnb_count\")\n",
    "\n",
    "station_areas=station_areas.merge(polygon_point_counts,on=[\"route_id\",\"parent_station\"],how=\"left\")\n",
    "\n",
    "\n",
    "station_areas[\"acreage\"] = station_areas.geometry.area / 4046.86\n",
    "\n",
    "# station_areas[\"airbnb_density\"] = station_areas[\"airbnb_count\"].fillna(0).astype(int) / station_areas[\"acreage\"].replace(0, float(\"nan\"))\n",
    "\n",
    "\n",
    "station_areas[\"airbnb_density\"] = np.where(\n",
    "    station_areas[\"airbnb_count\"].isna(),\n",
    "    np.nan,  # Make null if point_count is null\n",
    "    station_areas[\"airbnb_count\"] / station_areas[\"acreage\"].replace(0, np.nan)\n",
    ")\n"
   ]
  },
  {
   "cell_type": "code",
   "execution_count": 46,
   "metadata": {},
   "outputs": [],
   "source": [
    "station_areas[[\"route_id\",\"parent_station\",\"airbnb_count\",\"airbnb_density\"]].to_csv(\"stations_routes_airbnbs_2024_bos_cam.csv\")"
   ]
  }
 ],
 "metadata": {
  "kernelspec": {
   "display_name": "sal",
   "language": "python",
   "name": "python3"
  },
  "language_info": {
   "codemirror_mode": {
    "name": "ipython",
    "version": 3
   },
   "file_extension": ".py",
   "mimetype": "text/x-python",
   "name": "python",
   "nbconvert_exporter": "python",
   "pygments_lexer": "ipython3",
   "version": "3.7.12 | packaged by conda-forge | (default, Oct 26 2021, 05:37:49) [MSC v.1916 64 bit (AMD64)]"
  },
  "orig_nbformat": 4,
  "vscode": {
   "interpreter": {
    "hash": "cf144bf7588f98c93e15e2425ec6e1be9b391b9d5ade411b33df886333d29f52"
   }
  }
 },
 "nbformat": 4,
 "nbformat_minor": 2
}
