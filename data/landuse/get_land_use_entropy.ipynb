{
 "cells": [
  {
   "cell_type": "code",
   "execution_count": 1,
   "metadata": {},
   "outputs": [],
   "source": [
    "import pandas as pd\n",
    "import geopandas as gpd\n",
    "import numpy as np\n",
    "\n",
    "landuse = gpd.read_file(\"L3_TAXPAR_POLY_ASSESS_gdb_3615755504676150852/masslanduse.geojson\")"
   ]
  },
  {
   "cell_type": "code",
   "execution_count": 3,
   "metadata": {},
   "outputs": [],
   "source": [
    "station_areas = pd.read_csv(\"../stations_routes_f23_geoms_nonoverlapping.csv\")\n",
    "\n",
    "station_areas= gpd.GeoDataFrame(station_areas,geometry=gpd.GeoSeries.from_wkt(station_areas[\"walk_poly_wkt\"]))\n",
    "station_areas = station_areas.set_crs(\"EPSG:4326\").to_crs(\"EPSG:26986\")"
   ]
  },
  {
   "cell_type": "code",
   "execution_count": 25,
   "metadata": {},
   "outputs": [],
   "source": [
    "intersecting_parcels = landuse.sjoin(station_areas,predicate=\"intersects\")[[\"MAP_PAR_ID\",\"SITE_ADDR\",\"PROP_ID\",\"USE_CODE\",\"ZONING\",\"BLD_AREA\",\"RES_AREA\",\"LOT_SIZE\",\"route_id\",\"parent_station\",\"geometry\"]].reset_index().drop(columns=[\"index\"]).dropna(subset=[\"SITE_ADDR\"])"
   ]
  },
  {
   "cell_type": "code",
   "execution_count": 26,
   "metadata": {},
   "outputs": [],
   "source": [
    "landuse_dict = {\"Mixed Use\":0,\"Residential\":1,\"Commercial\":3,\"Industrial\":4,\"Other\":[2,5,6,7,8,9]}\n",
    "mapping = {}\n",
    "for key, value in landuse_dict.items():\n",
    "    if isinstance(value, list):\n",
    "        for v in value:\n",
    "            mapping[v] = key\n",
    "    else:\n",
    "        mapping[value] = key\n",
    "\n",
    "# Function to classify based on the first digit\n",
    "def classify_land_use(value):\n",
    "    first_digit = int(str(value)[0])  # Get the first digit\n",
    "    return mapping.get(first_digit, \"Unknown\")  # Default to \"Unknown\" if not found\n",
    "\n",
    "# Apply the classification to the DataFrame\n",
    "intersecting_parcels['classification'] = intersecting_parcels['USE_CODE'].apply(lambda x: classify_land_use(x))"
   ]
  },
  {
   "cell_type": "code",
   "execution_count": null,
   "metadata": {},
   "outputs": [],
   "source": [
    "#categorize use\n",
    "#percent area-overlapping parcels get even split of lot size\n",
    "#cut to walksheds\n",
    "#calculate entropy index for each walkshed"
   ]
  },
  {
   "cell_type": "code",
   "execution_count": 34,
   "metadata": {},
   "outputs": [],
   "source": [
    "# groupby station area\n",
    "# sum of building area\n",
    "# each parcel living area divided by sum\n",
    "# groupby classification\n",
    "# entropy index for each station area\n",
    "\n",
    "total_areas = intersecting_parcels.groupby([\"route_id\",\"parent_station\"]).sum()[\"BLD_AREA\"].reset_index().rename(columns={\"BLD_AREA\":\"total_area\"})\n",
    "\n",
    "intersecting_parcels=intersecting_parcels.merge(total_areas[[\"route_id\",\"parent_station\",\"total_area\"]],on=[\"route_id\",\"parent_station\"])"
   ]
  },
  {
   "cell_type": "code",
   "execution_count": 36,
   "metadata": {},
   "outputs": [],
   "source": [
    "intersecting_parcels[\"pct_total\"] = intersecting_parcels[\"BLD_AREA\"] / intersecting_parcels[\"total_area\"]"
   ]
  },
  {
   "cell_type": "code",
   "execution_count": 40,
   "metadata": {},
   "outputs": [],
   "source": [
    "intersecting_parcels=intersecting_parcels.groupby([\"route_id\",\"parent_station\",\"classification\"]).sum()[\"pct_total\"].reset_index()"
   ]
  },
  {
   "cell_type": "code",
   "execution_count": 50,
   "metadata": {},
   "outputs": [
    {
     "name": "stderr",
     "output_type": "stream",
     "text": [
      "c:\\Users\\Ted Banken\\.conda\\envs\\sal\\lib\\site-packages\\pandas\\core\\arraylike.py:364: RuntimeWarning: divide by zero encountered in log\n",
      "  result = getattr(ufunc, method)(*inputs, **kwargs)\n"
     ]
    }
   ],
   "source": [
    "import numpy as np\n",
    "\n",
    "def calculate_entropy(group):\n",
    "    k = 5\n",
    "    entropy = -np.sum(group['pct_total'] * np.log(group['pct_total'])) / np.log(k)\n",
    "    return entropy\n",
    "\n",
    "\n",
    "lu_entropy=intersecting_parcels.groupby([\"route_id\",\"parent_station\"]).apply(lambda x: calculate_entropy(x)).reset_index().rename(columns={0:\"land_use_entropy\"})"
   ]
  },
  {
   "cell_type": "code",
   "execution_count": 52,
   "metadata": {},
   "outputs": [],
   "source": [
    "lu_entropy.to_csv(\"station_routes_2024_lu_entropy.csv\")"
   ]
  }
 ],
 "metadata": {
  "kernelspec": {
   "display_name": "sal",
   "language": "python",
   "name": "python3"
  },
  "language_info": {
   "codemirror_mode": {
    "name": "ipython",
    "version": 3
   },
   "file_extension": ".py",
   "mimetype": "text/x-python",
   "name": "python",
   "nbconvert_exporter": "python",
   "pygments_lexer": "ipython3",
   "version": "3.7.12 | packaged by conda-forge | (default, Oct 26 2021, 05:37:49) [MSC v.1916 64 bit (AMD64)]"
  },
  "orig_nbformat": 4,
  "vscode": {
   "interpreter": {
    "hash": "cf144bf7588f98c93e15e2425ec6e1be9b391b9d5ade411b33df886333d29f52"
   }
  }
 },
 "nbformat": 4,
 "nbformat_minor": 2
}
